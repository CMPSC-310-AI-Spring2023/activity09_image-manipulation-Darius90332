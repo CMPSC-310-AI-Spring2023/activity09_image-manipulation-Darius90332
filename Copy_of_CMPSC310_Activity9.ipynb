{
  "nbformat": 4,
  "nbformat_minor": 0,
  "metadata": {
    "colab": {
      "provenance": [],
      "include_colab_link": true
    },
    "kernelspec": {
      "name": "python3",
      "display_name": "Python 3"
    },
    "language_info": {
      "name": "python"
    }
  },
  "cells": [
    {
      "cell_type": "markdown",
      "metadata": {
        "id": "view-in-github",
        "colab_type": "text"
      },
      "source": [
        "<a href=\"https://colab.research.google.com/github/CMPSC-310-AI-Spring2023/activity09_image-manipulation-Darius90332/blob/main/Copy_of_CMPSC310_Activity9.ipynb\" target=\"_parent\"><img src=\"https://colab.research.google.com/assets/colab-badge.svg\" alt=\"Open In Colab\"/></a>"
      ]
    },
    {
      "cell_type": "markdown",
      "source": [
        "# **Activity 9: Image Manipulation **\n"
      ],
      "metadata": {
        "id": "vcrrIOhGjS0Z"
      }
    },
    {
      "cell_type": "code",
      "source": [
        "import numpy as np \n",
        "import cv2 \n",
        "\n",
        "rect = np.zeros(300,300), dytpe =\"uint8\") \n",
        "cv2.rectangle(rect, (25,25), (275,275), 255, -1)\n",
        "cv2.iwrite(\"bitwise/Rectangle.png\", rect) \n",
        "\n",
        "circ = np.zeros(300,300), dtype =\"unit8\")\n",
        "cv2.circle(circ, (150,150), 150, 255, -1)\n",
        "cv2.iwrite(\"bitwise/Circle.png\", circ)\n",
        "\n",
        "bitwiseAnd = cv2.bitwise_and(rect, circ)\n",
        "cv2.iwrite(\"bitwise/And.png\", bitwiseAnd)\n",
        "\n",
        "bitwiseOr = cv2.bitwise_or(rect, circ)\n",
        "cv2.iwrite(\"bitwise/Or.png\", bitwiseOr) \n",
        "\n",
        "bitwiseXor = cv2.bitwise_xor(rect, circ)\n",
        "cv2.iwrite(\"bitwise/Xor.png\", bitwiseXor) \n",
        "\n",
        "bitwiseNot = cv2.bitwise_not(rect, circ)\n",
        "cv2.iwrite(\"bitwise/Not.png\", bitwiseNot) \n",
        "\n"
      ],
      "metadata": {
        "id": "TIa7NO2QPDLs"
      },
      "execution_count": null,
      "outputs": []
    },
    {
      "cell_type": "code",
      "source": [
        "import numpy as np \n",
        "import cv2 \n",
        "\n",
        "image = cv2.imread(\"images/Alleghenysoccer.jpg\")\n",
        "print(image.shape) \n",
        "\n",
        "mask = np.zeros(image. shape[:2], dtype=\"unit8\")\n",
        "\n",
        "(cX, cY) = (image.shape[1] //2, image.shape[0] // 2)\n",
        "cv2.rectangle(mask, (cX - 75, cY - 75), (cX + 75, cY +75), 255, -1)\n",
        "cv2.iwrite(\"mask1.png\",mask)\n",
        "\n",
        "masked = cv2.bitwise_and(image, image, mask=mask)\n",
        "cv2.iwrite(\"mask1.png\", masked)\n",
        "\n",
        "cv2.circle(mask, (cX , cY),100 , 255, 1)\n",
        "cv2.iwrite(\"mask2.png\",mask)\n",
        "\n",
        "masked = cv2.bitwise_and(image, image, mask=mask)\n",
        "cv2.iwrite(\"mask2.png\", masked)\n",
        "\n",
        "gray = cv2.cvtColor(masked, cv2.COLOR_BG2GRAY)\n",
        "cv2. iwrite(\"gray.png\", gray)\n"
      ],
      "metadata": {
        "id": "SK0KdnWoR4BF",
        "outputId": "128c735c-4e2d-447d-a030-603be6911f25",
        "colab": {
          "base_uri": "https://localhost:8080/",
          "height": 240
        }
      },
      "execution_count": null,
      "outputs": [
        {
          "output_type": "error",
          "ename": "AttributeError",
          "evalue": "ignored",
          "traceback": [
            "\u001b[0;31m---------------------------------------------------------------------------\u001b[0m",
            "\u001b[0;31mAttributeError\u001b[0m                            Traceback (most recent call last)",
            "\u001b[0;32m<ipython-input-1-86ab2d99917c>\u001b[0m in \u001b[0;36m<module>\u001b[0;34m\u001b[0m\n\u001b[1;32m      3\u001b[0m \u001b[0;34m\u001b[0m\u001b[0m\n\u001b[1;32m      4\u001b[0m \u001b[0mimage\u001b[0m \u001b[0;34m=\u001b[0m \u001b[0mcv2\u001b[0m\u001b[0;34m.\u001b[0m\u001b[0mimread\u001b[0m\u001b[0;34m(\u001b[0m\u001b[0;34m\"images/Alleghenysoccer.jpg\"\u001b[0m\u001b[0;34m)\u001b[0m\u001b[0;34m\u001b[0m\u001b[0;34m\u001b[0m\u001b[0m\n\u001b[0;32m----> 5\u001b[0;31m \u001b[0mprint\u001b[0m\u001b[0;34m(\u001b[0m\u001b[0mimage\u001b[0m\u001b[0;34m.\u001b[0m\u001b[0mshape\u001b[0m\u001b[0;34m)\u001b[0m\u001b[0;34m\u001b[0m\u001b[0;34m\u001b[0m\u001b[0m\n\u001b[0m\u001b[1;32m      6\u001b[0m \u001b[0;34m\u001b[0m\u001b[0m\n\u001b[1;32m      7\u001b[0m \u001b[0mmask\u001b[0m \u001b[0;34m=\u001b[0m \u001b[0mnp\u001b[0m\u001b[0;34m.\u001b[0m\u001b[0mzeros\u001b[0m\u001b[0;34m(\u001b[0m\u001b[0mimage\u001b[0m\u001b[0;34m.\u001b[0m \u001b[0mshape\u001b[0m\u001b[0;34m[\u001b[0m\u001b[0;34m:\u001b[0m\u001b[0;36m2\u001b[0m\u001b[0;34m]\u001b[0m\u001b[0;34m,\u001b[0m \u001b[0mdtype\u001b[0m\u001b[0;34m=\u001b[0m\u001b[0;34m\"unit8\"\u001b[0m\u001b[0;34m)\u001b[0m\u001b[0;34m\u001b[0m\u001b[0;34m\u001b[0m\u001b[0m\n",
            "\u001b[0;31mAttributeError\u001b[0m: 'NoneType' object has no attribute 'shape'"
          ]
        }
      ]
    },
    {
      "cell_type": "code",
      "source": [
        "from google.colab import drive\n",
        "drive.mount('/content/drive')\n"
      ],
      "metadata": {
        "id": "fg1truRkcgnJ"
      },
      "execution_count": null,
      "outputs": []
    },
    {
      "cell_type": "code",
      "source": [
        "import numpy as np\n",
        "import cv2 \n",
        "\n",
        "image = cv2.iread(\"content/drive/My_decive/CB_folder/images/rewards.png\")\n",
        "print(image, shape) \n",
        "\n",
        "mask = np.zeros(image. shape[:2], dtype=\"unit8\")\n",
        "\n",
        "(cX, cY) = (image.shape[1] //2, image.shape[0] // 2)\n",
        "cv2.rectangle(mask, (cX - 750, cY - 750), (cX + 750, cY +750), 510, -1)\n",
        "cv2.iwrite(\"mask1.png\",mask)\n",
        "\n",
        "masked = cv2.bitwise_and(image, image, mask=mask)\n",
        "cv2.iwrite(\"mask1.png\", masked)"
      ],
      "metadata": {
        "id": "anesjzltijGh"
      },
      "execution_count": null,
      "outputs": []
    }
  ]
}